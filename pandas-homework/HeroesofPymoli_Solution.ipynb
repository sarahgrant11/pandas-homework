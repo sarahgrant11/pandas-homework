{
 "cells": [
  {
   "cell_type": "code",
   "execution_count": 7,
   "metadata": {},
   "outputs": [],
   "source": [
    "import pandas as pd\n",
    "# load the cvs file\n",
    "file = \"Resources/purchase_data.csv\"\n",
    "\n",
    "# read csv file\n",
    "purchase_data = pd.read_csv(file)"
   ]
  },
  {
   "cell_type": "code",
   "execution_count": 8,
   "metadata": {},
   "outputs": [
    {
     "output_type": "execute_result",
     "data": {
      "text/plain": "   Purchase ID             SN  Age Gender  Item ID  \\\n0            0        Lisim78   20   Male      108   \n1            1    Lisovynya38   40   Male      143   \n2            2     Ithergue48   24   Male       92   \n3            3  Chamassasya86   24   Male      100   \n4            4      Iskosia90   23   Male      131   \n\n                                   Item Name  Price  \n0  Extraction, Quickblade Of Trembling Hands   3.53  \n1                          Frenzied Scimitar   1.56  \n2                               Final Critic   4.88  \n3                                Blindscythe   3.27  \n4                                       Fury   1.44  ",
      "text/html": "<div>\n<style scoped>\n    .dataframe tbody tr th:only-of-type {\n        vertical-align: middle;\n    }\n\n    .dataframe tbody tr th {\n        vertical-align: top;\n    }\n\n    .dataframe thead th {\n        text-align: right;\n    }\n</style>\n<table border=\"1\" class=\"dataframe\">\n  <thead>\n    <tr style=\"text-align: right;\">\n      <th></th>\n      <th>Purchase ID</th>\n      <th>SN</th>\n      <th>Age</th>\n      <th>Gender</th>\n      <th>Item ID</th>\n      <th>Item Name</th>\n      <th>Price</th>\n    </tr>\n  </thead>\n  <tbody>\n    <tr>\n      <th>0</th>\n      <td>0</td>\n      <td>Lisim78</td>\n      <td>20</td>\n      <td>Male</td>\n      <td>108</td>\n      <td>Extraction, Quickblade Of Trembling Hands</td>\n      <td>3.53</td>\n    </tr>\n    <tr>\n      <th>1</th>\n      <td>1</td>\n      <td>Lisovynya38</td>\n      <td>40</td>\n      <td>Male</td>\n      <td>143</td>\n      <td>Frenzied Scimitar</td>\n      <td>1.56</td>\n    </tr>\n    <tr>\n      <th>2</th>\n      <td>2</td>\n      <td>Ithergue48</td>\n      <td>24</td>\n      <td>Male</td>\n      <td>92</td>\n      <td>Final Critic</td>\n      <td>4.88</td>\n    </tr>\n    <tr>\n      <th>3</th>\n      <td>3</td>\n      <td>Chamassasya86</td>\n      <td>24</td>\n      <td>Male</td>\n      <td>100</td>\n      <td>Blindscythe</td>\n      <td>3.27</td>\n    </tr>\n    <tr>\n      <th>4</th>\n      <td>4</td>\n      <td>Iskosia90</td>\n      <td>23</td>\n      <td>Male</td>\n      <td>131</td>\n      <td>Fury</td>\n      <td>1.44</td>\n    </tr>\n  </tbody>\n</table>\n</div>"
     },
     "metadata": {},
     "execution_count": 8
    }
   ],
   "source": [
    "purchase_data.head()"
   ]
  },
  {
   "cell_type": "code",
   "execution_count": 9,
   "metadata": {},
   "outputs": [],
   "source": [
    "#purchase_data.shape"
   ]
  },
  {
   "cell_type": "code",
   "execution_count": 10,
   "metadata": {
    "tags": []
   },
   "outputs": [
    {
     "output_type": "stream",
     "name": "stdout",
     "text": "Total Players: 576\n"
    }
   ],
   "source": [
    "# player count \n",
    "# make subset \n",
    "\n",
    "player_info = purchase_data.loc[:, [\"Gender\", \"SN\", \"Age\"]]\n",
    "player_info = player_info.drop_duplicates()\n",
    "number_players = len(player_info)\n",
    "\n",
    "print(\"Total Players: \" + str(number_players))\n"
   ]
  },
  {
   "cell_type": "code",
   "execution_count": 6,
   "metadata": {
    "tags": []
   },
   "outputs": [
    {
     "output_type": "stream",
     "name": "stdout",
     "text": "Number of Unique Items: 179\nAverage Price: 3.0509871794871795\nNumber of Purchases: 780\nTotal Revenue: 2379.77\n"
    },
    {
     "output_type": "execute_result",
     "data": {
      "text/plain": "   Number of Unique Items Average Price Number of Purchases Total Revenue\n0                     179         $3.05                 780     $2,379.77",
      "text/html": "<div>\n<style scoped>\n    .dataframe tbody tr th:only-of-type {\n        vertical-align: middle;\n    }\n\n    .dataframe tbody tr th {\n        vertical-align: top;\n    }\n\n    .dataframe thead th {\n        text-align: right;\n    }\n</style>\n<table border=\"1\" class=\"dataframe\">\n  <thead>\n    <tr style=\"text-align: right;\">\n      <th></th>\n      <th>Number of Unique Items</th>\n      <th>Average Price</th>\n      <th>Number of Purchases</th>\n      <th>Total Revenue</th>\n    </tr>\n  </thead>\n  <tbody>\n    <tr>\n      <th>0</th>\n      <td>179</td>\n      <td>$3.05</td>\n      <td>780</td>\n      <td>$2,379.77</td>\n    </tr>\n  </tbody>\n</table>\n</div>"
     },
     "metadata": {},
     "execution_count": 6
    }
   ],
   "source": [
    "import pandas as pd\n",
    "\n",
    "# load the cvs file\n",
    "file = \"Resources/purchase_data.csv\"\n",
    "\n",
    "# read csv file\n",
    "purchase_data = pd.read_csv(file)\n",
    "\n",
    "# purchasing analysis \n",
    "\n",
    "average_price = purchase_data[\"Price\"].mean()\n",
    "total_price = purchase_data[\"Price\"].sum()\n",
    "purchase_count = purchase_data[\"Price\"].count()\n",
    "item_count = len(purchase_data[\"Item ID\"].unique())\n",
    "\n",
    "print(\"Number of Unique Items: \" + str(item_count))\n",
    "print(\"Average Price: \" + str(average_price))\n",
    "print(\"Number of Purchases: \" + str(purchase_count))\n",
    "print(\"Total Revenue: \" + str(total_price))\n",
    "\n",
    "# create dataframe\n",
    "summary_table = pd.DataFrame({\"Number of Unique Items\": item_count,\n",
    "                              \"Total Revenue\": [total_price],\n",
    "                              \"Number of Purchases\": [purchase_count],\n",
    "                              \"Average Price\": [average_price]})\n",
    "\n",
    "# Data Munging\n",
    "summary_table = summary_table.round(2)\n",
    "summary_table [\"Average Price\"] = summary_table[\"Average Price\"].map(\"${:,.2f}\".format)\n",
    "summary_table [\"Number of Purchases\"] = summary_table[\"Number of Purchases\"].map(\"{:,}\".format)\n",
    "summary_table [\"Total Revenue\"] = summary_table[\"Total Revenue\"].map(\"${:,.2f}\".format)\n",
    "summary_table = summary_table.loc[:,[\"Number of Unique Items\", \"Average Price\", \"Number of Purchases\", \"Total Revenue\"]]\n",
    "\n",
    "summary_table\n"
   ]
  },
  {
   "cell_type": "code",
   "execution_count": 13,
   "metadata": {},
   "outputs": [
    {
     "output_type": "execute_result",
     "data": {
      "text/plain": "                      Purchase Count Average Purchase Price  \\\nGender                                                        \nFemale                           113                  $3.20   \nMale                             652                  $3.02   \nOther / Non-Disclosed             15                  $3.35   \n\n                      Total Purchase Value Avg Total Purchase per Person  \nGender                                                                    \nFemale                             $361.94                         $4.47  \nMale                             $1,967.64                         $4.07  \nOther / Non-Disclosed               $50.19                         $4.56  ",
      "text/html": "<div>\n<style scoped>\n    .dataframe tbody tr th:only-of-type {\n        vertical-align: middle;\n    }\n\n    .dataframe tbody tr th {\n        vertical-align: top;\n    }\n\n    .dataframe thead th {\n        text-align: right;\n    }\n</style>\n<table border=\"1\" class=\"dataframe\">\n  <thead>\n    <tr style=\"text-align: right;\">\n      <th></th>\n      <th>Purchase Count</th>\n      <th>Average Purchase Price</th>\n      <th>Total Purchase Value</th>\n      <th>Avg Total Purchase per Person</th>\n    </tr>\n    <tr>\n      <th>Gender</th>\n      <th></th>\n      <th></th>\n      <th></th>\n      <th></th>\n    </tr>\n  </thead>\n  <tbody>\n    <tr>\n      <th>Female</th>\n      <td>113</td>\n      <td>$3.20</td>\n      <td>$361.94</td>\n      <td>$4.47</td>\n    </tr>\n    <tr>\n      <th>Male</th>\n      <td>652</td>\n      <td>$3.02</td>\n      <td>$1,967.64</td>\n      <td>$4.07</td>\n    </tr>\n    <tr>\n      <th>Other / Non-Disclosed</th>\n      <td>15</td>\n      <td>$3.35</td>\n      <td>$50.19</td>\n      <td>$4.56</td>\n    </tr>\n  </tbody>\n</table>\n</div>"
     },
     "metadata": {},
     "execution_count": 13
    }
   ],
   "source": [
    "# Gender Demographics \n",
    "# calculate totals by gender\n",
    "gender_demographics_totals = player_info[\"Gender\"].value_counts()\n",
    "gender_demographics_percents = gender_demographics_totals / number_players * 100\n",
    "gender_demographics = pd.DataFrame({\"Total Count\": gender_demographics_totals, \"Percentage of Players\": gender_demographics_percents})\n",
    "\n",
    "# Minor Data Munging\n",
    "gender_demographics = gender_demographics.round(2)\n",
    "gender_demographics\n",
    "\n",
    "# calculate gender-based counts\n",
    "gender_purchase_total = purchase_data.groupby([\"Gender\"]).sum()[\"Price\"].rename(\"Total Purchase Value\")\n",
    "gender_average = purchase_data.groupby([\"Gender\"]).mean()[\"Price\"].rename(\"Average Purchase Price\")\n",
    "gender_counts = purchase_data.groupby([\"Gender\"]).count()[\"Price\"].rename(\"Purchase Count\")\n",
    "\n",
    "# Calculate average total purchase per person)\n",
    "normalized_total = gender_purchase_total / gender_demographics[\"Total Count\"]\n",
    "\n",
    "# create DataFrame\n",
    "gender_data = pd.DataFrame({\"Purchase Count\": gender_counts, \"Average Purchase Price\": gender_average, \"Total Purchase Value\": gender_purchase_total, \"Normalized Totals\": normalized_total})\n",
    "\n",
    "# Minor Data Munging\n",
    "gender_data[\"Average Purchase Price\"] = gender_data[\"Average Purchase Price\"].map(\"${:,.2f}\".format)\n",
    "gender_data[\"Total Purchase Value\"] = gender_data[\"Total Purchase Value\"].map(\"${:,.2f}\".format)\n",
    "gender_data [\"Purchase Count\"] = gender_data[\"Purchase Count\"].map(\"{:,}\".format)\n",
    "gender_data[\"Avg Total Purchase per Person\"] = gender_data[\"Normalized Totals\"].map(\"${:,.2f}\".format)\n",
    "gender_data = gender_data.loc[:, [\"Purchase Count\", \"Average Purchase Price\", \"Total Purchase Value\", \"Avg Total Purchase per Person\"]]\n",
    "\n",
    "gender_data\n"
   ]
  },
  {
   "cell_type": "code",
   "execution_count": 16,
   "metadata": {},
   "outputs": [
    {
     "output_type": "execute_result",
     "data": {
      "text/plain": "       Total Count  Percentage of Players\n<10             17                   2.95\n10-14           22                   3.82\n15-19          107                  18.58\n20-24          258                  44.79\n25-29           77                  13.37\n30-34           52                   9.03\n35-39           31                   5.38\n40+             12                   2.08",
      "text/html": "<div>\n<style scoped>\n    .dataframe tbody tr th:only-of-type {\n        vertical-align: middle;\n    }\n\n    .dataframe tbody tr th {\n        vertical-align: top;\n    }\n\n    .dataframe thead th {\n        text-align: right;\n    }\n</style>\n<table border=\"1\" class=\"dataframe\">\n  <thead>\n    <tr style=\"text-align: right;\">\n      <th></th>\n      <th>Total Count</th>\n      <th>Percentage of Players</th>\n    </tr>\n  </thead>\n  <tbody>\n    <tr>\n      <th>&lt;10</th>\n      <td>17</td>\n      <td>2.95</td>\n    </tr>\n    <tr>\n      <th>10-14</th>\n      <td>22</td>\n      <td>3.82</td>\n    </tr>\n    <tr>\n      <th>15-19</th>\n      <td>107</td>\n      <td>18.58</td>\n    </tr>\n    <tr>\n      <th>20-24</th>\n      <td>258</td>\n      <td>44.79</td>\n    </tr>\n    <tr>\n      <th>25-29</th>\n      <td>77</td>\n      <td>13.37</td>\n    </tr>\n    <tr>\n      <th>30-34</th>\n      <td>52</td>\n      <td>9.03</td>\n    </tr>\n    <tr>\n      <th>35-39</th>\n      <td>31</td>\n      <td>5.38</td>\n    </tr>\n    <tr>\n      <th>40+</th>\n      <td>12</td>\n      <td>2.08</td>\n    </tr>\n  </tbody>\n</table>\n</div>"
     },
     "metadata": {},
     "execution_count": 16
    }
   ],
   "source": [
    "# Age Calculations \n",
    "# Establish the bins\n",
    "age_bins = [0, 9.90, 14.90, 19.90, 24.90, 29.90, 34.90, 39.90, 99999]\n",
    "group_names = [\"<10\", \"10-14\", \"15-19\", \"20-24\", \"25-29\", \"30-34\", \"35-39\", \"40+\"]\n",
    "\n",
    "#put players in bins\n",
    "player_info[\"Age Ranges\"] = pd.cut(player_info[\"Age\"], age_bins, labels=group_names)\n",
    "\n",
    "#calculate percentages of ages by group\n",
    "age_demographics_totals = player_info[\"Age Ranges\"].value_counts()\n",
    "age_demographics_percents = age_demographics_totals / number_players * 100\n",
    "age_demographics = pd.DataFrame({\"Total Count\": age_demographics_totals, \"Percentage of Players\": age_demographics_percents})\n",
    "\n",
    "#data munging\n",
    "age_demographics = age_demographics.round(2)\n",
    "\n",
    "age_demographics.sort_index()\n"
   ]
  },
  {
   "cell_type": "code",
   "execution_count": 17,
   "metadata": {},
   "outputs": [
    {
     "output_type": "execute_result",
     "data": {
      "text/plain": "      Purchase Count Average Purchase Price Total Purchase Value  \\\n<10               23                  $3.35               $77.13   \n10-14             28                  $2.96               $82.78   \n15-19            136                  $3.04              $412.89   \n20-24            365                  $3.05            $1,114.06   \n25-29            101                  $2.90              $293.00   \n30-34             73                  $2.93              $214.00   \n35-39             41                  $3.60              $147.67   \n40+               13                  $2.94               $38.24   \n\n      Avg Total Purchase per Person  \n<10                           $4.54  \n10-14                         $3.76  \n15-19                         $3.86  \n20-24                         $4.32  \n25-29                         $3.81  \n30-34                         $4.12  \n35-39                         $4.76  \n40+                           $3.19  ",
      "text/html": "<div>\n<style scoped>\n    .dataframe tbody tr th:only-of-type {\n        vertical-align: middle;\n    }\n\n    .dataframe tbody tr th {\n        vertical-align: top;\n    }\n\n    .dataframe thead th {\n        text-align: right;\n    }\n</style>\n<table border=\"1\" class=\"dataframe\">\n  <thead>\n    <tr style=\"text-align: right;\">\n      <th></th>\n      <th>Purchase Count</th>\n      <th>Average Purchase Price</th>\n      <th>Total Purchase Value</th>\n      <th>Avg Total Purchase per Person</th>\n    </tr>\n  </thead>\n  <tbody>\n    <tr>\n      <th>&lt;10</th>\n      <td>23</td>\n      <td>$3.35</td>\n      <td>$77.13</td>\n      <td>$4.54</td>\n    </tr>\n    <tr>\n      <th>10-14</th>\n      <td>28</td>\n      <td>$2.96</td>\n      <td>$82.78</td>\n      <td>$3.76</td>\n    </tr>\n    <tr>\n      <th>15-19</th>\n      <td>136</td>\n      <td>$3.04</td>\n      <td>$412.89</td>\n      <td>$3.86</td>\n    </tr>\n    <tr>\n      <th>20-24</th>\n      <td>365</td>\n      <td>$3.05</td>\n      <td>$1,114.06</td>\n      <td>$4.32</td>\n    </tr>\n    <tr>\n      <th>25-29</th>\n      <td>101</td>\n      <td>$2.90</td>\n      <td>$293.00</td>\n      <td>$3.81</td>\n    </tr>\n    <tr>\n      <th>30-34</th>\n      <td>73</td>\n      <td>$2.93</td>\n      <td>$214.00</td>\n      <td>$4.12</td>\n    </tr>\n    <tr>\n      <th>35-39</th>\n      <td>41</td>\n      <td>$3.60</td>\n      <td>$147.67</td>\n      <td>$4.76</td>\n    </tr>\n    <tr>\n      <th>40+</th>\n      <td>13</td>\n      <td>$2.94</td>\n      <td>$38.24</td>\n      <td>$3.19</td>\n    </tr>\n  </tbody>\n</table>\n</div>"
     },
     "metadata": {},
     "execution_count": 17
    }
   ],
   "source": [
    "#Purchasing analysis by age groups \n",
    "# Bin purchasing data\n",
    "purchase_data[\"Age Ranges\"] = pd.cut(purchase_data[\"Age\"], age_bins, labels=group_names)\n",
    "\n",
    "age_purchase_total = purchase_data.groupby([\"Age Ranges\"]).sum()[\"Price\"].rename(\"Total Purchase Value\")\n",
    "age_average = purchase_data.groupby([\"Age Ranges\"]).mean()[\"Price\"].rename(\"Average Purchase Price\")\n",
    "age_counts = purchase_data.groupby([\"Age Ranges\"]).count()[\"Price\"].rename(\"Purchase Count\")\n",
    "\n",
    "# Calculate average purchase total per person\n",
    "normalized_total = age_purchase_total / age_demographics[\"Total Count\"]\n",
    "\n",
    "# Create dataframe\n",
    "age_data = pd.DataFrame({\"Purchase Count\": age_counts, \"Average Purchase Price\": age_average, \"Total Purchase Value\": age_purchase_total, \"Normalized Totals\": normalized_total})\n",
    "\n",
    "# Data munging\n",
    "age_data[\"Average Purchase Price\"] = age_data[\"Average Purchase Price\"].map(\"${:,.2f}\".format)\n",
    "age_data[\"Total Purchase Value\"] = age_data[\"Total Purchase Value\"].map(\"${:,.2f}\".format)\n",
    "age_data [\"Purchase Count\"] = age_data[\"Purchase Count\"].map(\"{:,}\".format)\n",
    "age_data[\"Avg Total Purchase per Person\"] = age_data[\"Normalized Totals\"].map(\"${:,.2f}\".format)\n",
    "age_data = age_data.loc[:, [\"Purchase Count\", \"Average Purchase Price\", \"Total Purchase Value\", \"Avg Total Purchase per Person\"]]\n",
    "\n",
    "age_data\n"
   ]
  },
  {
   "cell_type": "code",
   "execution_count": 18,
   "metadata": {},
   "outputs": [
    {
     "output_type": "execute_result",
     "data": {
      "text/plain": "             Purchase Count Average Purchase Price Total Purchase Value\nSN                                                                     \nLisosia93                 5                  $3.79               $18.96\nIdastidru52               4                  $3.86               $15.45\nChamjask73                3                  $4.61               $13.83\nIral74                    4                  $3.40               $13.62\nIskadarya95               3                  $4.37               $13.10",
      "text/html": "<div>\n<style scoped>\n    .dataframe tbody tr th:only-of-type {\n        vertical-align: middle;\n    }\n\n    .dataframe tbody tr th {\n        vertical-align: top;\n    }\n\n    .dataframe thead th {\n        text-align: right;\n    }\n</style>\n<table border=\"1\" class=\"dataframe\">\n  <thead>\n    <tr style=\"text-align: right;\">\n      <th></th>\n      <th>Purchase Count</th>\n      <th>Average Purchase Price</th>\n      <th>Total Purchase Value</th>\n    </tr>\n    <tr>\n      <th>SN</th>\n      <th></th>\n      <th></th>\n      <th></th>\n    </tr>\n  </thead>\n  <tbody>\n    <tr>\n      <th>Lisosia93</th>\n      <td>5</td>\n      <td>$3.79</td>\n      <td>$18.96</td>\n    </tr>\n    <tr>\n      <th>Idastidru52</th>\n      <td>4</td>\n      <td>$3.86</td>\n      <td>$15.45</td>\n    </tr>\n    <tr>\n      <th>Chamjask73</th>\n      <td>3</td>\n      <td>$4.61</td>\n      <td>$13.83</td>\n    </tr>\n    <tr>\n      <th>Iral74</th>\n      <td>4</td>\n      <td>$3.40</td>\n      <td>$13.62</td>\n    </tr>\n    <tr>\n      <th>Iskadarya95</th>\n      <td>3</td>\n      <td>$4.37</td>\n      <td>$13.10</td>\n    </tr>\n  </tbody>\n</table>\n</div>"
     },
     "metadata": {},
     "execution_count": 18
    }
   ],
   "source": [
    "# Calculate top spenders\n",
    "user_total = purchase_data.groupby([\"SN\"]).sum()[\"Price\"].rename(\"Total Purchase Value\")\n",
    "user_average = purchase_data.groupby([\"SN\"]).mean()[\"Price\"].rename(\"Average Purchase Price\")\n",
    "user_count = purchase_data.groupby([\"SN\"]).count()[\"Price\"].rename(\"Purchase Count\")\n",
    "\n",
    "# Create dataframe\n",
    "user_data = pd.DataFrame({\"Total Purchase Value\": user_total, \"Average Purchase Price\": user_average, \"Purchase Count\": user_count})\n",
    "\n",
    "user_sorted = user_data.sort_values(\"Total Purchase Value\", ascending=False)\n",
    "\n",
    "# Minor Data Munging\n",
    "user_sorted[\"Average Purchase Price\"] = user_sorted[\"Average Purchase Price\"].map(\"${:,.2f}\".format)\n",
    "user_sorted[\"Total Purchase Value\"] = user_sorted[\"Total Purchase Value\"].map(\"${:,.2f}\".format)\n",
    "user_sorted = user_sorted.loc[:,[\"Purchase Count\", \"Average Purchase Price\", \"Total Purchase Value\"]]\n",
    "\n",
    "user_sorted.head(5)\n"
   ]
  },
  {
   "cell_type": "code",
   "execution_count": 19,
   "metadata": {},
   "outputs": [
    {
     "output_type": "execute_result",
     "data": {
      "text/plain": "                                                     Purchase Count  \\\nItem ID Item Name                                                     \n92      Final Critic                                             13   \n178     Oathbreaker, Last Hope of the Breaking Storm             12   \n145     Fiery Glass Crusader                                      9   \n132     Persuasion                                                9   \n108     Extraction, Quickblade Of Trembling Hands                 9   \n\n                                                     Item Price  \\\nItem ID Item Name                                                 \n92      Final Critic                                      $4.61   \n178     Oathbreaker, Last Hope of the Breaking Storm      $4.23   \n145     Fiery Glass Crusader                              $4.58   \n132     Persuasion                                        $3.22   \n108     Extraction, Quickblade Of Trembling Hands         $3.53   \n\n                                                     Total Purchase Value  \nItem ID Item Name                                                          \n92      Final Critic                                               $59.99  \n178     Oathbreaker, Last Hope of the Breaking Storm               $50.76  \n145     Fiery Glass Crusader                                       $41.22  \n132     Persuasion                                                 $28.99  \n108     Extraction, Quickblade Of Trembling Hands                  $31.77  ",
      "text/html": "<div>\n<style scoped>\n    .dataframe tbody tr th:only-of-type {\n        vertical-align: middle;\n    }\n\n    .dataframe tbody tr th {\n        vertical-align: top;\n    }\n\n    .dataframe thead th {\n        text-align: right;\n    }\n</style>\n<table border=\"1\" class=\"dataframe\">\n  <thead>\n    <tr style=\"text-align: right;\">\n      <th></th>\n      <th></th>\n      <th>Purchase Count</th>\n      <th>Item Price</th>\n      <th>Total Purchase Value</th>\n    </tr>\n    <tr>\n      <th>Item ID</th>\n      <th>Item Name</th>\n      <th></th>\n      <th></th>\n      <th></th>\n    </tr>\n  </thead>\n  <tbody>\n    <tr>\n      <th>92</th>\n      <th>Final Critic</th>\n      <td>13</td>\n      <td>$4.61</td>\n      <td>$59.99</td>\n    </tr>\n    <tr>\n      <th>178</th>\n      <th>Oathbreaker, Last Hope of the Breaking Storm</th>\n      <td>12</td>\n      <td>$4.23</td>\n      <td>$50.76</td>\n    </tr>\n    <tr>\n      <th>145</th>\n      <th>Fiery Glass Crusader</th>\n      <td>9</td>\n      <td>$4.58</td>\n      <td>$41.22</td>\n    </tr>\n    <tr>\n      <th>132</th>\n      <th>Persuasion</th>\n      <td>9</td>\n      <td>$3.22</td>\n      <td>$28.99</td>\n    </tr>\n    <tr>\n      <th>108</th>\n      <th>Extraction, Quickblade Of Trembling Hands</th>\n      <td>9</td>\n      <td>$3.53</td>\n      <td>$31.77</td>\n    </tr>\n  </tbody>\n</table>\n</div>"
     },
     "metadata": {},
     "execution_count": 19
    }
   ],
   "source": [
    "# Find most popular items purchased\n",
    "item_data = purchase_data.loc[:,[\"Item ID\", \"Item Name\", \"Price\"]]\n",
    "\n",
    "# Perform basic calculations\n",
    "total_item_purchase = item_data.groupby([\"Item ID\", \"Item Name\"]).sum()[\"Price\"].rename(\"Total Purchase Value\")\n",
    "average_item_purchase = item_data.groupby([\"Item ID\", \"Item Name\"]).mean()[\"Price\"]\n",
    "item_count = item_data.groupby([\"Item ID\", \"Item Name\"]).count()[\"Price\"].rename(\"Purchase Count\")\n",
    "\n",
    "# Create DataFrame\n",
    "item_data_pd = pd.DataFrame({\"Total Purchase Value\": total_item_purchase, \"Item Price\": average_item_purchase, \"Purchase Count\": item_count})\n",
    "\n",
    "#sort \n",
    "item_data_count_sorted = item_data_pd.sort_values(\"Purchase Count\", ascending=False)\n",
    "\n",
    "#data munging\n",
    "item_data_count_sorted[\"Item Price\"] = item_data_count_sorted[\"Item Price\"].map(\"${:,.2f}\".format)\n",
    "item_data_count_sorted[\"Purchase Count\"] = item_data_count_sorted[\"Purchase Count\"].map(\"{:,}\".format)\n",
    "item_data_count_sorted[\"Total Purchase Value\"] = item_data_count_sorted[\"Total Purchase Value\"].map(\"${:,.2f}\".format)\n",
    "item_popularity = item_data_count_sorted.loc[:,[\"Purchase Count\", \"Item Price\", \"Total Purchase Value\"]]\n",
    "\n",
    "item_popularity.head(5)\n"
   ]
  },
  {
   "cell_type": "code",
   "execution_count": 20,
   "metadata": {},
   "outputs": [
    {
     "output_type": "execute_result",
     "data": {
      "text/plain": "                                                     Purchase Count  \\\nItem ID Item Name                                                     \n92      Final Critic                                             13   \n178     Oathbreaker, Last Hope of the Breaking Storm             12   \n82      Nirvana                                                   9   \n145     Fiery Glass Crusader                                      9   \n103     Singed Scalpel                                            8   \n\n                                                     Item Price  \\\nItem ID Item Name                                                 \n92      Final Critic                                      $4.61   \n178     Oathbreaker, Last Hope of the Breaking Storm      $4.23   \n82      Nirvana                                           $4.90   \n145     Fiery Glass Crusader                              $4.58   \n103     Singed Scalpel                                    $4.35   \n\n                                                     Total Purchase Value  \nItem ID Item Name                                                          \n92      Final Critic                                               $59.99  \n178     Oathbreaker, Last Hope of the Breaking Storm               $50.76  \n82      Nirvana                                                    $44.10  \n145     Fiery Glass Crusader                                       $41.22  \n103     Singed Scalpel                                             $34.80  ",
      "text/html": "<div>\n<style scoped>\n    .dataframe tbody tr th:only-of-type {\n        vertical-align: middle;\n    }\n\n    .dataframe tbody tr th {\n        vertical-align: top;\n    }\n\n    .dataframe thead th {\n        text-align: right;\n    }\n</style>\n<table border=\"1\" class=\"dataframe\">\n  <thead>\n    <tr style=\"text-align: right;\">\n      <th></th>\n      <th></th>\n      <th>Purchase Count</th>\n      <th>Item Price</th>\n      <th>Total Purchase Value</th>\n    </tr>\n    <tr>\n      <th>Item ID</th>\n      <th>Item Name</th>\n      <th></th>\n      <th></th>\n      <th></th>\n    </tr>\n  </thead>\n  <tbody>\n    <tr>\n      <th>92</th>\n      <th>Final Critic</th>\n      <td>13</td>\n      <td>$4.61</td>\n      <td>$59.99</td>\n    </tr>\n    <tr>\n      <th>178</th>\n      <th>Oathbreaker, Last Hope of the Breaking Storm</th>\n      <td>12</td>\n      <td>$4.23</td>\n      <td>$50.76</td>\n    </tr>\n    <tr>\n      <th>82</th>\n      <th>Nirvana</th>\n      <td>9</td>\n      <td>$4.90</td>\n      <td>$44.10</td>\n    </tr>\n    <tr>\n      <th>145</th>\n      <th>Fiery Glass Crusader</th>\n      <td>9</td>\n      <td>$4.58</td>\n      <td>$41.22</td>\n    </tr>\n    <tr>\n      <th>103</th>\n      <th>Singed Scalpel</th>\n      <td>8</td>\n      <td>$4.35</td>\n      <td>$34.80</td>\n    </tr>\n  </tbody>\n</table>\n</div>"
     },
     "metadata": {},
     "execution_count": 20
    }
   ],
   "source": [
    "# Calculate most profitable items \n",
    "item_total_purchase = item_data_pd.sort_values(\"Total Purchase Value\", ascending=False)\n",
    "\n",
    "# data munging\n",
    "item_total_purchase[\"Item Price\"] = item_total_purchase[\"Item Price\"].map(\"${:,.2f}\".format)\n",
    "item_total_purchase[\"Purchase Count\"] = item_total_purchase[\"Purchase Count\"].map(\"{:,}\".format)\n",
    "item_total_purchase[\"Total Purchase Value\"] = item_total_purchase[\"Total Purchase Value\"].map(\"${:,.2f}\".format)\n",
    "item_profitable = item_total_purchase.loc[:,[\"Purchase Count\", \"Item Price\", \"Total Purchase Value\"]]\n",
    "\n",
    "item_profitable.head(5)\n"
   ]
  },
  {
   "cell_type": "code",
   "execution_count": null,
   "metadata": {},
   "outputs": [],
   "source": []
  }
 ],
 "metadata": {
  "language_info": {
   "codemirror_mode": {
    "name": "ipython",
    "version": 3
   },
   "file_extension": ".py",
   "mimetype": "text/x-python",
   "name": "python",
   "nbconvert_exporter": "python",
   "pygments_lexer": "ipython3",
   "version": "3.7.7-final"
  },
  "orig_nbformat": 2,
  "kernelspec": {
   "name": "python37764bitpythondatacondaf52d3ce673e8414fae95a6e5f2defcbe",
   "display_name": "Python 3.7.7 64-bit ('PythonData': conda)"
  }
 },
 "nbformat": 4,
 "nbformat_minor": 2
}